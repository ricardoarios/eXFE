{
 "cells": [
  {
   "cell_type": "code",
   "execution_count": 8,
   "metadata": {},
   "outputs": [],
   "source": [
    "import pandas as pd\n",
    "import xgboost as xgb\n",
    "from sklearn.metrics import cohen_kappa_score\n",
    "from sklearn.model_selection import RandomizedSearchCV\n",
    "from tqdm import tqdm"
   ]
  },
  {
   "cell_type": "code",
   "execution_count": null,
   "metadata": {},
   "outputs": [],
   "source": [
    "def RSXgboost(X_train, y_train, X_test, y_test, prob=False, metric='f1_macro'):\n",
    "    params = {\n",
    "            \"learning_rate\" : [0.05,0.10,0.15,0.20,0.25,0.30],\n",
    "            \"max_depth\" : [ 3, 4, 5, 6, 8, 10, 12, 15],\n",
    "            \"min_child_weight\" : [ 1, 3, 5, 7 ],\n",
    "            \"gamma\": [ 0.0, 0.1, 0.2 , 0.3, 0.4 ],\n",
    "            \"colsample_bytree\" : [ 0.3, 0.4, 0.5 , 0.7 ]\n",
    "    }\n",
    "\n",
    "    classifier  =  xgb.XGBClassifier(verbosity = 0, silent=True)\n",
    "    best_model = RandomizedSearchCV(classifier, param_distributions=params,\n",
    "                                                                                n_iter=1, n_jobs = -1, \n",
    "                                                                                scoring=metric, cv=10, \n",
    "                                                                                verbose=0)\n",
    "    \n",
    "    best_model.fit(X_train, y_train, verbose=False)\n",
    "    y_pred_prob = best_model.predict_proba(X_test)\n",
    "    y_pred = best_model.predict(X_test)\n",
    "    \n",
    "    return y_pred, y_pred_prob, best_model"
   ]
  },
  {
   "cell_type": "code",
   "execution_count": 13,
   "metadata": {},
   "outputs": [
    {
     "name": "stderr",
     "output_type": "stream",
     "text": [
      "100%|██████████| 10/10 [00:06<00:00,  1.50it/s]"
     ]
    },
    {
     "name": "stdout",
     "output_type": "stream",
     "text": [
      "[0.17, 0.24, 0.17, 0.36, 0.2, 0.29, 0.08, 0.17, 0.33, 0.17]\n"
     ]
    },
    {
     "name": "stderr",
     "output_type": "stream",
     "text": [
      "\n"
     ]
    }
   ],
   "source": [
    "scores=[]\n",
    "\n",
    "for k in tqdm(range(1,11)):\n",
    "    \n",
    "    train = pd.read_csv(f'../../k-folds/train- {k} .csv')\n",
    "    test = pd.read_csv(f'../../k-folds/test- {k} .csv')\n",
    "    \n",
    "    x_train = train[['alt', 'temp2m', 'humidity', 'precip', 'atm', 'wind', 'm.fapar']].to_numpy()\n",
    "    y_train = train['classes[cv.train, rotulo]'].to_numpy()\n",
    "    \n",
    "    x_test = test[['alt', 'temp2m', 'humidity', 'precip', 'atm', 'wind', 'm.fapar']].to_numpy()\n",
    "    y_test = test['classes[cv.test, rotulo]'].to_numpy()\n",
    "    \n",
    "    params = {\n",
    "            \"learning_rate\" : [0.05,0.10,0.15,0.20,0.25,0.30],\n",
    "            \"max_depth\" : [ 3, 4, 5, 6, 8, 10, 12, 15],\n",
    "            \"min_child_weight\" : [ 1, 3, 5, 7 ],\n",
    "            \"gamma\": [ 0.0, 0.1, 0.2 , 0.3, 0.4 ],\n",
    "            \"colsample_bytree\" : [ 0.3, 0.4, 0.5 , 0.7 ]\n",
    "    }\n",
    "    \n",
    "\n",
    "    classifier  =  xgb.XGBClassifier(verbosity = 0, silent=True)\n",
    "    #best_model = RandomizedSearchCV(classifier, param_distributions=params,\n",
    "    #                                                                            n_iter=2, n_jobs = -1, \n",
    "    #                                                                            scoring='accuracy', cv=10, \n",
    "    #                                                                            verbose=0)\n",
    "    \n",
    "    classifier.fit(x_train, y_train, verbose=False)\n",
    "    y_pred = classifier.predict(x_test)\n",
    "\n",
    "    scores.append(float(f'{cohen_kappa_score(y_test, y_pred):.2f}'))\n",
    "\n",
    "print(scores)"
   ]
  },
  {
   "cell_type": "code",
   "execution_count": null,
   "metadata": {},
   "outputs": [],
   "source": []
  }
 ],
 "metadata": {
  "kernelspec": {
   "display_name": "Python 3.8.14 64-bit ('ipkernel')",
   "language": "python",
   "name": "python3"
  },
  "language_info": {
   "codemirror_mode": {
    "name": "ipython",
    "version": 3
   },
   "file_extension": ".py",
   "mimetype": "text/x-python",
   "name": "python",
   "nbconvert_exporter": "python",
   "pygments_lexer": "ipython3",
   "version": "3.8.14"
  },
  "orig_nbformat": 4,
  "vscode": {
   "interpreter": {
    "hash": "a3e734639ba1d9545ccaf20c4b4a2f4ed73d7e5b4b90eb8250ccb0114c4b7ca1"
   }
  }
 },
 "nbformat": 4,
 "nbformat_minor": 2
}
