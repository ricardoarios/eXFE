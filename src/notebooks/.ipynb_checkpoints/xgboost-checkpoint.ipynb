{
 "cells": [
  {
   "cell_type": "code",
   "execution_count": 1,
   "metadata": {},
   "outputs": [
    {
     "name": "stderr",
     "output_type": "stream",
     "text": [
      "/home/rios/.local/lib/python3.8/site-packages/xgboost/compat.py:31: FutureWarning: pandas.Int64Index is deprecated and will be removed from pandas in a future version. Use pandas.Index with the appropriate dtype instead.\n",
      "  from pandas import MultiIndex, Int64Index\n"
     ]
    }
   ],
   "source": [
    "import pandas as pd\n",
    "import xgboost as xgb\n",
    "from sklearn.metrics import cohen_kappa_score\n",
    "from sklearn.model_selection import RandomizedSearchCV\n",
    "from tqdm import tqdm"
   ]
  },
  {
   "cell_type": "code",
   "execution_count": 2,
   "metadata": {},
   "outputs": [],
   "source": [
    "def RSXgboost(X_train, y_train, X_test, y_test, prob=False, metric='f1_macro'):\n",
    "    params = {\n",
    "            \"learning_rate\" : [0.05,0.10,0.15,0.20,0.25,0.30],\n",
    "            \"max_depth\" : [ 3, 4, 5, 6, 8, 10, 12, 15],\n",
    "            \"min_child_weight\" : [ 1, 3, 5, 7 ],\n",
    "            \"gamma\": [ 0.0, 0.1, 0.2 , 0.3, 0.4 ],\n",
    "            \"colsample_bytree\" : [ 0.3, 0.4, 0.5 , 0.7 ]\n",
    "    }\n",
    "\n",
    "    classifier  =  xgb.XGBClassifier(verbosity = 0, silent=True)\n",
    "    best_model = RandomizedSearchCV(classifier, param_distributions=params,\n",
    "                                                                                n_iter=1, n_jobs = -1, \n",
    "                                                                                scoring=metric, cv=10, \n",
    "                                                                                verbose=0)\n",
    "    \n",
    "    best_model.fit(X_train, y_train, verbose=False)\n",
    "    y_pred_prob = best_model.predict_proba(X_test)\n",
    "    y_pred = best_model.predict(X_test)\n",
    "    \n",
    "    return y_pred, y_pred_prob, best_model"
   ]
  },
  {
   "cell_type": "code",
   "execution_count": 3,
   "metadata": {},
   "outputs": [
    {
     "name": "stderr",
     "output_type": "stream",
     "text": [
      "  0%|                                                                                                                                                                                       | 0/10 [00:00<?, ?it/s]/home/rios/.local/lib/python3.8/site-packages/xgboost/sklearn.py:1146: UserWarning: The use of label encoder in XGBClassifier is deprecated and will be removed in a future release. To remove this warning, do the following: 1) Pass option use_label_encoder=False when constructing XGBClassifier object; and 2) Encode your labels (y) as integers starting with 0, i.e. 0, 1, 2, ..., [num_class - 1].\n",
      "  warnings.warn(label_encoder_deprecation_msg, UserWarning)\n",
      " 10%|█████████████████▌                                                                                                                                                             | 1/10 [00:00<00:02,  3.41it/s]/home/rios/.local/lib/python3.8/site-packages/xgboost/sklearn.py:1146: UserWarning: The use of label encoder in XGBClassifier is deprecated and will be removed in a future release. To remove this warning, do the following: 1) Pass option use_label_encoder=False when constructing XGBClassifier object; and 2) Encode your labels (y) as integers starting with 0, i.e. 0, 1, 2, ..., [num_class - 1].\n",
      "  warnings.warn(label_encoder_deprecation_msg, UserWarning)\n",
      " 20%|███████████████████████████████████                                                                                                                                            | 2/10 [00:00<00:01,  5.32it/s]/home/rios/.local/lib/python3.8/site-packages/xgboost/sklearn.py:1146: UserWarning: The use of label encoder in XGBClassifier is deprecated and will be removed in a future release. To remove this warning, do the following: 1) Pass option use_label_encoder=False when constructing XGBClassifier object; and 2) Encode your labels (y) as integers starting with 0, i.e. 0, 1, 2, ..., [num_class - 1].\n",
      "  warnings.warn(label_encoder_deprecation_msg, UserWarning)\n",
      " 30%|████████████████████████████████████████████████████▌                                                                                                                          | 3/10 [00:00<00:01,  6.52it/s]/home/rios/.local/lib/python3.8/site-packages/xgboost/sklearn.py:1146: UserWarning: The use of label encoder in XGBClassifier is deprecated and will be removed in a future release. To remove this warning, do the following: 1) Pass option use_label_encoder=False when constructing XGBClassifier object; and 2) Encode your labels (y) as integers starting with 0, i.e. 0, 1, 2, ..., [num_class - 1].\n",
      "  warnings.warn(label_encoder_deprecation_msg, UserWarning)\n",
      " 40%|██████████████████████████████████████████████████████████████████████                                                                                                         | 4/10 [00:00<00:00,  7.29it/s]/home/rios/.local/lib/python3.8/site-packages/xgboost/sklearn.py:1146: UserWarning: The use of label encoder in XGBClassifier is deprecated and will be removed in a future release. To remove this warning, do the following: 1) Pass option use_label_encoder=False when constructing XGBClassifier object; and 2) Encode your labels (y) as integers starting with 0, i.e. 0, 1, 2, ..., [num_class - 1].\n",
      "  warnings.warn(label_encoder_deprecation_msg, UserWarning)\n",
      " 50%|███████████████████████████████████████████████████████████████████████████████████████▌                                                                                       | 5/10 [00:00<00:00,  7.53it/s]/home/rios/.local/lib/python3.8/site-packages/xgboost/sklearn.py:1146: UserWarning: The use of label encoder in XGBClassifier is deprecated and will be removed in a future release. To remove this warning, do the following: 1) Pass option use_label_encoder=False when constructing XGBClassifier object; and 2) Encode your labels (y) as integers starting with 0, i.e. 0, 1, 2, ..., [num_class - 1].\n",
      "  warnings.warn(label_encoder_deprecation_msg, UserWarning)\n",
      " 60%|█████████████████████████████████████████████████████████████████████████████████████████████████████████                                                                      | 6/10 [00:00<00:00,  7.06it/s]/home/rios/.local/lib/python3.8/site-packages/xgboost/sklearn.py:1146: UserWarning: The use of label encoder in XGBClassifier is deprecated and will be removed in a future release. To remove this warning, do the following: 1) Pass option use_label_encoder=False when constructing XGBClassifier object; and 2) Encode your labels (y) as integers starting with 0, i.e. 0, 1, 2, ..., [num_class - 1].\n",
      "  warnings.warn(label_encoder_deprecation_msg, UserWarning)\n",
      " 70%|██████████████████████████████████████████████████████████████████████████████████████████████████████████████████████████▍                                                    | 7/10 [00:01<00:00,  7.01it/s]/home/rios/.local/lib/python3.8/site-packages/xgboost/sklearn.py:1146: UserWarning: The use of label encoder in XGBClassifier is deprecated and will be removed in a future release. To remove this warning, do the following: 1) Pass option use_label_encoder=False when constructing XGBClassifier object; and 2) Encode your labels (y) as integers starting with 0, i.e. 0, 1, 2, ..., [num_class - 1].\n",
      "  warnings.warn(label_encoder_deprecation_msg, UserWarning)\n",
      " 80%|████████████████████████████████████████████████████████████████████████████████████████████████████████████████████████████████████████████                                   | 8/10 [00:01<00:00,  7.16it/s]/home/rios/.local/lib/python3.8/site-packages/xgboost/sklearn.py:1146: UserWarning: The use of label encoder in XGBClassifier is deprecated and will be removed in a future release. To remove this warning, do the following: 1) Pass option use_label_encoder=False when constructing XGBClassifier object; and 2) Encode your labels (y) as integers starting with 0, i.e. 0, 1, 2, ..., [num_class - 1].\n",
      "  warnings.warn(label_encoder_deprecation_msg, UserWarning)\n",
      " 90%|█████████████████████████████████████████████████████████████████████████████████████████████████████████████████████████████████████████████████████████████▌                 | 9/10 [00:01<00:00,  6.86it/s]/home/rios/.local/lib/python3.8/site-packages/xgboost/sklearn.py:1146: UserWarning: The use of label encoder in XGBClassifier is deprecated and will be removed in a future release. To remove this warning, do the following: 1) Pass option use_label_encoder=False when constructing XGBClassifier object; and 2) Encode your labels (y) as integers starting with 0, i.e. 0, 1, 2, ..., [num_class - 1].\n",
      "  warnings.warn(label_encoder_deprecation_msg, UserWarning)\n",
      "100%|██████████████████████████████████████████████████████████████████████████████████████████████████████████████████████████████████████████████████████████████████████████████| 10/10 [00:01<00:00,  6.61it/s]"
     ]
    },
    {
     "name": "stdout",
     "output_type": "stream",
     "text": [
      "[0.17, 0.24, 0.17, 0.36, 0.2, 0.29, 0.08, 0.17, 0.33, 0.17]\n"
     ]
    },
    {
     "name": "stderr",
     "output_type": "stream",
     "text": [
      "\n"
     ]
    }
   ],
   "source": [
    "scores=[]\n",
    "\n",
    "for k in tqdm(range(1,11)):\n",
    "    \n",
    "    train = pd.read_csv(f'../../results/k-folds/train- {k} .csv')\n",
    "    test = pd.read_csv(f'../../results/k-folds/test- {k} .csv')\n",
    "    \n",
    "    x_train = train[['alt', 'temp2m', 'humidity', 'precip', 'atm', 'wind', 'm.fapar']].to_numpy()\n",
    "    y_train = train['classes[cv.train, rotulo]'].to_numpy()\n",
    "    \n",
    "    x_test = test[['alt', 'temp2m', 'humidity', 'precip', 'atm', 'wind', 'm.fapar']].to_numpy()\n",
    "    y_test = test['classes[cv.test, rotulo]'].to_numpy()\n",
    "    \n",
    "    params = {\n",
    "            \"learning_rate\" : [0.05,0.10,0.15,0.20,0.25,0.30],\n",
    "            \"max_depth\" : [ 3, 4, 5, 6, 8, 10, 12, 15],\n",
    "            \"min_child_weight\" : [ 1, 3, 5, 7 ],\n",
    "            \"gamma\": [ 0.0, 0.1, 0.2 , 0.3, 0.4 ],\n",
    "            \"colsample_bytree\" : [ 0.3, 0.4, 0.5 , 0.7 ]\n",
    "    }\n",
    "    \n",
    "\n",
    "    classifier  =  xgb.XGBClassifier(verbosity = 0, silent=True)\n",
    "    #best_model = RandomizedSearchCV(classifier, param_distributions=params,\n",
    "    #                                                                            n_iter=2, n_jobs = -1, \n",
    "    #                                                                            scoring='accuracy', cv=10, \n",
    "    #                                                                            verbose=0)\n",
    "    \n",
    "    classifier.fit(x_train, y_train, verbose=False)\n",
    "    y_pred = classifier.predict(x_test)\n",
    "\n",
    "    scores.append(float(f'{cohen_kappa_score(y_test, y_pred):.2f}'))\n",
    "\n",
    "print(scores)"
   ]
  },
  {
   "cell_type": "code",
   "execution_count": null,
   "metadata": {},
   "outputs": [],
   "source": []
  }
 ],
 "metadata": {
  "kernelspec": {
   "display_name": "Python 3 (ipykernel)",
   "language": "python",
   "name": "python3"
  },
  "language_info": {
   "codemirror_mode": {
    "name": "ipython",
    "version": 3
   },
   "file_extension": ".py",
   "mimetype": "text/x-python",
   "name": "python",
   "nbconvert_exporter": "python",
   "pygments_lexer": "ipython3",
   "version": "3.8.10"
  },
  "vscode": {
   "interpreter": {
    "hash": "a3e734639ba1d9545ccaf20c4b4a2f4ed73d7e5b4b90eb8250ccb0114c4b7ca1"
   }
  }
 },
 "nbformat": 4,
 "nbformat_minor": 4
}
