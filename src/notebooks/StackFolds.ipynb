{
 "cells": [
  {
   "cell_type": "code",
   "execution_count": 1,
   "id": "1258149d-9123-47d5-86d3-c9adf4c3a994",
   "metadata": {},
   "outputs": [],
   "source": [
    "import numpy as np\n",
    "import pandas as pd\n",
    "from sklearn.svm import SVC\n",
    "\n",
    "from sklearn.ensemble import RandomForestClassifier\n",
    "from sklearn.svm import LinearSVC\n",
    "from sklearn.linear_model import LogisticRegression\n",
    "from sklearn.preprocessing import StandardScaler\n",
    "from sklearn.pipeline import make_pipeline\n",
    "from sklearn.ensemble import StackingClassifier\n",
    "from sklearn.naive_bayes import GaussianNB\n",
    "from sklearn.metrics import cohen_kappa_score\n",
    "\n",
    "from tqdm import tqdm"
   ]
  },
  {
   "cell_type": "code",
   "execution_count": 11,
   "id": "dd0bbf6f-c1fb-4eba-b7a7-1e20c6707609",
   "metadata": {},
   "outputs": [
    {
     "name": "stderr",
     "output_type": "stream",
     "text": [
      "100%|██████████████████████████████████████████████████████████████████████████████████████████████████████████████████████████████████████████████████████████████████████████████| 10/10 [00:01<00:00,  5.46it/s]\n"
     ]
    }
   ],
   "source": [
    "scores=[]\n",
    "\n",
    "for k in tqdm(range(1,11)):\n",
    "    \n",
    "    train = pd.read_csv(f'../../results/k-folds/train- {k} .csv')\n",
    "    test = pd.read_csv(f'../../results/k-folds/test- {k} .csv')\n",
    "    \n",
    "    x_train = train[['alt', 'temp2m', 'humidity', 'precip', 'atm', 'wind', 'm.fapar']].to_numpy()\n",
    "    y_train = train['classes[cv.train, rotulo]'].to_numpy()\n",
    "    \n",
    "    x_test = test[['alt', 'temp2m', 'humidity', 'precip', 'atm', 'wind', 'm.fapar']].to_numpy()\n",
    "    y_test = test['classes[cv.test, rotulo]'].to_numpy()\n",
    "    \n",
    "    estimators = [('rf', RandomForestClassifier(n_estimators=10, random_state=42)),\n",
    "              ('naive', GaussianNB()),\n",
    "              ('svm', make_pipeline(StandardScaler(), SVC(random_state=42)))]\n",
    "    \n",
    "    clf = StackingClassifier(estimators=estimators, final_estimator=LogisticRegression())\n",
    "    \n",
    "    clf.fit(x_train, y_train)\n",
    "    \n",
    "    y_pred = clf.predict(x_test)\n",
    "    \n",
    "    scores.append(float(f'{cohen_kappa_score(y_test, y_pred):.2f}'))"
   ]
  },
  {
   "cell_type": "code",
   "execution_count": 12,
   "id": "d2ff59ea-c22b-4617-9e96-4a5100b7435a",
   "metadata": {},
   "outputs": [
    {
     "data": {
      "text/plain": [
       "0.193"
      ]
     },
     "execution_count": 12,
     "metadata": {},
     "output_type": "execute_result"
    }
   ],
   "source": [
    "np.mean(scores)"
   ]
  },
  {
   "cell_type": "code",
   "execution_count": 13,
   "id": "cb9478fc-fe54-47bb-a2bb-be5b67444db1",
   "metadata": {},
   "outputs": [
    {
     "data": {
      "text/plain": [
       "[0.24, 0.06, 0.17, 0.15, 0.22, 0.29, 0.19, 0.17, 0.26, 0.18]"
      ]
     },
     "execution_count": 13,
     "metadata": {},
     "output_type": "execute_result"
    }
   ],
   "source": [
    "scores"
   ]
  },
  {
   "cell_type": "code",
   "execution_count": null,
   "id": "175ebab9-5df7-46c1-b39f-ab8c6c8bf21c",
   "metadata": {},
   "outputs": [],
   "source": []
  }
 ],
 "metadata": {
  "kernelspec": {
   "display_name": "Python 3 (ipykernel)",
   "language": "python",
   "name": "python3"
  },
  "language_info": {
   "codemirror_mode": {
    "name": "ipython",
    "version": 3
   },
   "file_extension": ".py",
   "mimetype": "text/x-python",
   "name": "python",
   "nbconvert_exporter": "python",
   "pygments_lexer": "ipython3",
   "version": "3.8.10"
  }
 },
 "nbformat": 4,
 "nbformat_minor": 5
}
